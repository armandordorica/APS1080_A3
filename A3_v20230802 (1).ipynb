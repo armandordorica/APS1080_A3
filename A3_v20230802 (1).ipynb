{
 "cells": [
  {
   "cell_type": "code",
   "execution_count": 1,
   "id": "db7f2c69-66b9-4d55-8910-49429d79e7c4",
   "metadata": {},
   "outputs": [],
   "source": [
    "import pandas as pd\n",
    "\n",
    "import matplotlib.pyplot as plt\n",
    "import numpy as np\n",
    "\n",
    "from MountainCarAgent import MountainCarAgent\n",
    "\n",
    "def moving_average(arr, window_size=10):\n",
    "    ret = np.cumsum(arr, dtype=float)\n",
    "    ret[window_size:] = ret[window_size:] - ret[:-window_size]\n",
    "    return ret[window_size - 1:] / window_size"
   ]
  },
  {
   "cell_type": "markdown",
   "id": "2ed10df6-00a3-451c-b44b-3665b19e9b04",
   "metadata": {
    "jp-MarkdownHeadingCollapsed": true,
    "tags": []
   },
   "source": [
    "### Monte Carlo"
   ]
  },
  {
   "cell_type": "code",
   "execution_count": 2,
   "id": "40f5f4ee-701e-4adb-b959-a46d96d17547",
   "metadata": {},
   "outputs": [
    {
     "name": "stdout",
     "output_type": "stream",
     "text": [
      "At episode: 93, Win!!!\n",
      "At episode: 101, Win!!!\n",
      "At episode: 102, Win!!!\n",
      "At episode: 103, Win!!!\n",
      "At episode: 104, Win!!!\n",
      "At episode: 109, Win!!!\n",
      "At episode: 115, Win!!!\n",
      "At episode: 116, Win!!!\n",
      "At episode: 117, Win!!!\n",
      "At episode: 119, Win!!!\n",
      "At episode: 120, Win!!!\n",
      "At episode: 121, Win!!!\n",
      "At episode: 122, Win!!!\n",
      "At episode: 124, Win!!!\n",
      "At episode: 125, Win!!!\n",
      "At episode: 126, Win!!!\n",
      "At episode: 127, Win!!!\n",
      "At episode: 128, Win!!!\n",
      "At episode: 129, Win!!!\n",
      "At episode: 130, Win!!!\n",
      "At episode: 131, Win!!!\n",
      "At episode: 132, Win!!!\n",
      "At episode: 133, Win!!!\n",
      "At episode: 134, Win!!!\n",
      "At episode: 136, Win!!!\n",
      "At episode: 137, Win!!!\n",
      "At episode: 138, Win!!!\n",
      "At episode: 139, Win!!!\n",
      "At episode: 140, Win!!!\n",
      "At episode: 187, Win!!!\n",
      "At episode: 195, Win!!!\n",
      "At episode: 196, Win!!!\n",
      "At episode: 197, Win!!!\n",
      "At episode: 198, Win!!!\n",
      "At episode: 199, Win!!!\n",
      "At episode: 200, Win!!!\n",
      "At episode: 201, Win!!!\n",
      "At episode: 202, Win!!!\n",
      "At episode: 203, Win!!!\n",
      "At episode: 204, Win!!!\n",
      "At episode: 205, Win!!!\n",
      "At episode: 206, Win!!!\n",
      "At episode: 207, Win!!!\n",
      "At episode: 208, Win!!!\n",
      "At episode: 209, Win!!!\n",
      "At episode: 210, Win!!!\n",
      "At episode: 211, Win!!!\n",
      "At episode: 212, Win!!!\n",
      "At episode: 214, Win!!!\n",
      "At episode: 215, Win!!!\n",
      "At episode: 216, Win!!!\n",
      "At episode: 217, Win!!!\n",
      "At episode: 218, Win!!!\n",
      "At episode: 226, Win!!!\n",
      "At episode: 227, Win!!!\n",
      "At episode: 228, Win!!!\n",
      "At episode: 229, Win!!!\n",
      "At episode: 231, Win!!!\n",
      "At episode: 232, Win!!!\n",
      "At episode: 255, Win!!!\n",
      "At episode: 266, Win!!!\n",
      "At episode: 286, Win!!!\n",
      "At episode: 287, Win!!!\n",
      "At episode: 288, Win!!!\n",
      "At episode: 289, Win!!!\n",
      "At episode: 290, Win!!!\n",
      "At episode: 291, Win!!!\n",
      "At episode: 292, Win!!!\n",
      "At episode: 293, Win!!!\n",
      "At episode: 294, Win!!!\n",
      "At episode: 295, Win!!!\n",
      "At episode: 296, Win!!!\n",
      "At episode: 297, Win!!!\n",
      "At episode: 298, Win!!!\n",
      "At episode: 299, Win!!!\n",
      "Finished training!\n",
      "Win!!!\n"
     ]
    }
   ],
   "source": [
    "agent_mc = MountainCarAgent()\n",
    "losses_mc = agent_mc.train(method='mc')\n",
    "agent_mc.run()"
   ]
  },
  {
   "cell_type": "code",
   "execution_count": 3,
   "id": "5d9ec759-b5c7-4844-9a38-9903c626233f",
   "metadata": {},
   "outputs": [
    {
     "data": {
      "image/png": "[encoded data removed]",
      "text/plain": [
       "<Figure size 432x288 with 1 Axes>"
      ]
     },
     "metadata": {
      "needs_background": "light"
     },
     "output_type": "display_data"
    }
   ],
   "source": [
    "ma_losses_mc = moving_average(losses_mc, window_size=50)\n",
    "x= np.arange(0,len(ma_losses_mc))\n",
    "\n",
    "x = [x+50 for x in x]\n",
    "plt.plot(x, ma_losses_mc, label='Monte Carlo')\n",
    "\n",
    "plt.title(\"Moving Average (T=50) of Rewards per episode\")\n",
    "plt.xlabel(\"Episode Number\")\n",
    "plt.ylabel(\"Total Rewards\")\n",
    "plt.legend()\n",
    "\n",
    "\n",
    "log_df = pd.DataFrame({'rewards':ma_losses_mc})\n",
    "log_df['method'] = 'Monte Carlo'\n",
    "log_df.to_csv(\"MountainCar_MC.csv\")"
   ]
  },
  {
   "cell_type": "markdown",
   "id": "e1e89264-cc94-44a8-9907-dd5af5960b8d",
   "metadata": {
    "jp-MarkdownHeadingCollapsed": true,
    "tags": []
   },
   "source": [
    "### On Policy SARSA"
   ]
  },
  {
   "cell_type": "code",
   "execution_count": 2,
   "id": "c23b00c5-af4e-443a-b381-468e8f24b9ce",
   "metadata": {},
   "outputs": [
    {
     "name": "stdout",
     "output_type": "stream",
     "text": [
      "At episode: 186, Win!!!\n",
      "At episode: 206, Win!!!\n",
      "At episode: 207, Win!!!\n",
      "At episode: 208, Win!!!\n",
      "At episode: 209, Win!!!\n",
      "At episode: 210, Win!!!\n",
      "At episode: 211, Win!!!\n",
      "At episode: 213, Win!!!\n",
      "At episode: 226, Win!!!\n",
      "At episode: 227, Win!!!\n",
      "At episode: 233, Win!!!\n",
      "At episode: 235, Win!!!\n",
      "At episode: 236, Win!!!\n",
      "At episode: 242, Win!!!\n",
      "At episode: 247, Win!!!\n",
      "At episode: 293, Win!!!\n",
      "At episode: 294, Win!!!\n",
      "At episode: 295, Win!!!\n",
      "At episode: 297, Win!!!\n",
      "At episode: 298, Win!!!\n",
      "At episode: 299, Win!!!\n",
      "Finished training!\n",
      "Win!!!\n"
     ]
    }
   ],
   "source": [
    "agent_on_policy_sarsa = MountainCarAgent()\n",
    "losses_on_policy_sarsa = agent_on_policy_sarsa.train(method='sarsa')\n",
    "\n",
    "agent_on_policy_sarsa.run()"
   ]
  },
  {
   "cell_type": "code",
   "execution_count": 3,
   "id": "b432081f-306b-4d9e-9f3c-acb563cccf11",
   "metadata": {},
   "outputs": [
    {
     "data": {
      "image/png": "[encoded data removed]",
      "text/plain": [
       "<Figure size 432x288 with 1 Axes>"
      ]
     },
     "metadata": {
      "needs_background": "light"
     },
     "output_type": "display_data"
    }
   ],
   "source": [
    "ma_losses_on_policy_sarsa = moving_average(losses_on_policy_sarsa, window_size=50)\n",
    "x= np.arange(0,len(ma_losses_on_policy_sarsa))\n",
    "x = [x+50 for x in x]\n",
    "plt.plot(x, ma_losses_on_policy_sarsa, label='On Policy SARSA')\n",
    "\n",
    "plt.title(\"Moving Average (T=50) of Rewards per episode\")\n",
    "plt.xlabel(\"Episode Number\")\n",
    "plt.ylabel(\"Total Rewards\")\n",
    "plt.legend()\n",
    "\n",
    "\n",
    "log_df = pd.DataFrame({'rewards':ma_losses_on_policy_sarsa})\n",
    "log_df['method'] = 'On Policy SARSA'\n",
    "log_df.to_csv(\"MountainCar_on_policy_sarsa.csv\")"
   ]
  },
  {
   "cell_type": "markdown",
   "id": "4ffde4b7-fe52-4c95-87fe-c6045d66f70b",
   "metadata": {
    "jp-MarkdownHeadingCollapsed": true,
    "tags": []
   },
   "source": [
    "### On Policy Expected SARSA"
   ]
  },
  {
   "cell_type": "code",
   "execution_count": 2,
   "id": "371952f7-06c4-4784-b31b-25d92ac03eca",
   "metadata": {},
   "outputs": [],
   "source": [
    "# logs['combination'] = reduce_join(logs, ['Epsilon', 'Num States','NUM_ACTIONS', 'MAX_ITERATIONS', 'GAMMA', 'ALPHA'])\n",
    "# 0.05(10, 10)35000.950.2"
   ]
  },
  {
   "cell_type": "code",
   "execution_count": 3,
   "id": "0a0ba8b8-9264-48b3-8825-8546093d5466",
   "metadata": {},
   "outputs": [
    {
     "name": "stdout",
     "output_type": "stream",
     "text": [
      "At episode: 149, Win!!!\n",
      "At episode: 214, Win!!!\n",
      "At episode: 274, Win!!!\n",
      "At episode: 283, Win!!!\n",
      "At episode: 284, Win!!!\n",
      "At episode: 293, Win!!!\n",
      "At episode: 294, Win!!!\n",
      "At episode: 295, Win!!!\n",
      "At episode: 296, Win!!!\n",
      "At episode: 297, Win!!!\n",
      "At episode: 298, Win!!!\n",
      "At episode: 299, Win!!!\n",
      "Finished training!\n",
      "Win!!!\n"
     ]
    }
   ],
   "source": [
    "agent_on_policy_expected_sarsa = MountainCarAgent()\n",
    "\n",
    "losses_on_policy_expected_sarsa= agent_on_policy_expected_sarsa.train(method='expected_sarsa')\n",
    "agent_on_policy_expected_sarsa.run()"
   ]
  },
  {
   "cell_type": "code",
   "execution_count": 4,
   "id": "29f08c0f-a05d-4a12-9002-9167c1d84ed7",
   "metadata": {},
   "outputs": [
    {
     "data": {
      "image/png": "[encoded data removed]",
      "text/plain": [
       "<Figure size 432x288 with 1 Axes>"
      ]
     },
     "metadata": {
      "needs_background": "light"
     },
     "output_type": "display_data"
    }
   ],
   "source": [
    "ma_losses_on_policy_expected_sarsa = moving_average(losses_on_policy_expected_sarsa, window_size=50)\n",
    "x= np.arange(0,len(ma_losses_on_policy_expected_sarsa))\n",
    "\n",
    "x = [x+50 for x in x]\n",
    "plt.plot(x, ma_losses_on_policy_expected_sarsa, label='On Policy Expected SARSA')\n",
    "\n",
    "plt.title(\"Moving Average (T=50) of Rewards per episode\")\n",
    "plt.xlabel(\"Episode Number\")\n",
    "plt.ylabel(\"Total Rewards\")\n",
    "plt.legend()\n",
    "\n",
    "log_df = pd.DataFrame({'rewards':ma_losses_on_policy_expected_sarsa})\n",
    "log_df['method'] = 'On Policy Expected SARSA'\n",
    "log_df.to_csv(\"MountainCar_on_policy_expected_sarsa.csv\")"
   ]
  },
  {
   "cell_type": "markdown",
   "id": "f429a7ea-e89d-4f0b-9ff0-24f1c85ea0d7",
   "metadata": {
    "tags": []
   },
   "source": [
    "### Off-policy expected SARSA with a greedy control policy."
   ]
  },
  {
   "cell_type": "code",
   "execution_count": 2,
   "id": "98025d43-9067-4343-a826-77041264c8dc",
   "metadata": {},
   "outputs": [
    {
     "name": "stdout",
     "output_type": "stream",
     "text": [
      "At episode: 177, Win!!!\n",
      "At episode: 178, Win!!!\n",
      "At episode: 179, Win!!!\n",
      "At episode: 208, Win!!!\n",
      "At episode: 209, Win!!!\n",
      "At episode: 210, Win!!!\n",
      "At episode: 234, Win!!!\n",
      "At episode: 235, Win!!!\n",
      "At episode: 236, Win!!!\n",
      "At episode: 237, Win!!!\n",
      "At episode: 238, Win!!!\n",
      "At episode: 239, Win!!!\n",
      "At episode: 240, Win!!!\n",
      "At episode: 241, Win!!!\n",
      "At episode: 242, Win!!!\n",
      "At episode: 243, Win!!!\n",
      "At episode: 244, Win!!!\n",
      "At episode: 245, Win!!!\n",
      "At episode: 246, Win!!!\n",
      "At episode: 247, Win!!!\n",
      "At episode: 248, Win!!!\n",
      "At episode: 251, Win!!!\n",
      "At episode: 252, Win!!!\n",
      "At episode: 253, Win!!!\n",
      "At episode: 254, Win!!!\n",
      "At episode: 255, Win!!!\n",
      "At episode: 256, Win!!!\n",
      "At episode: 257, Win!!!\n",
      "At episode: 258, Win!!!\n",
      "At episode: 259, Win!!!\n",
      "At episode: 260, Win!!!\n",
      "At episode: 264, Win!!!\n",
      "At episode: 265, Win!!!\n",
      "At episode: 266, Win!!!\n",
      "At episode: 267, Win!!!\n",
      "At episode: 268, Win!!!\n",
      "At episode: 269, Win!!!\n",
      "At episode: 270, Win!!!\n",
      "At episode: 271, Win!!!\n",
      "At episode: 272, Win!!!\n",
      "At episode: 273, Win!!!\n",
      "At episode: 274, Win!!!\n",
      "At episode: 275, Win!!!\n",
      "At episode: 276, Win!!!\n",
      "At episode: 277, Win!!!\n",
      "At episode: 278, Win!!!\n",
      "At episode: 279, Win!!!\n",
      "At episode: 280, Win!!!\n",
      "At episode: 281, Win!!!\n",
      "At episode: 282, Win!!!\n",
      "At episode: 283, Win!!!\n",
      "At episode: 287, Win!!!\n",
      "At episode: 288, Win!!!\n",
      "At episode: 289, Win!!!\n",
      "At episode: 290, Win!!!\n",
      "At episode: 291, Win!!!\n",
      "At episode: 292, Win!!!\n",
      "At episode: 293, Win!!!\n",
      "At episode: 294, Win!!!\n",
      "At episode: 295, Win!!!\n",
      "At episode: 296, Win!!!\n",
      "At episode: 297, Win!!!\n",
      "At episode: 298, Win!!!\n",
      "At episode: 299, Win!!!\n",
      "At episode: 300, Win!!!\n",
      "At episode: 301, Win!!!\n",
      "At episode: 302, Win!!!\n",
      "At episode: 303, Win!!!\n",
      "At episode: 304, Win!!!\n",
      "At episode: 306, Win!!!\n",
      "At episode: 307, Win!!!\n",
      "At episode: 308, Win!!!\n",
      "At episode: 309, Win!!!\n",
      "At episode: 310, Win!!!\n",
      "At episode: 311, Win!!!\n",
      "At episode: 312, Win!!!\n",
      "At episode: 313, Win!!!\n",
      "At episode: 314, Win!!!\n",
      "At episode: 315, Win!!!\n",
      "At episode: 316, Win!!!\n",
      "At episode: 317, Win!!!\n",
      "At episode: 320, Win!!!\n",
      "At episode: 326, Win!!!\n",
      "At episode: 333, Win!!!\n",
      "At episode: 334, Win!!!\n",
      "At episode: 335, Win!!!\n",
      "At episode: 336, Win!!!\n",
      "At episode: 337, Win!!!\n",
      "At episode: 338, Win!!!\n",
      "At episode: 339, Win!!!\n",
      "At episode: 340, Win!!!\n",
      "At episode: 341, Win!!!\n",
      "At episode: 342, Win!!!\n",
      "At episode: 343, Win!!!\n",
      "At episode: 344, Win!!!\n",
      "At episode: 345, Win!!!\n",
      "At episode: 346, Win!!!\n",
      "At episode: 347, Win!!!\n",
      "At episode: 348, Win!!!\n",
      "At episode: 349, Win!!!\n",
      "At episode: 350, Win!!!\n",
      "At episode: 351, Win!!!\n",
      "At episode: 352, Win!!!\n",
      "At episode: 353, Win!!!\n",
      "At episode: 354, Win!!!\n",
      "At episode: 355, Win!!!\n",
      "At episode: 356, Win!!!\n",
      "At episode: 357, Win!!!\n",
      "At episode: 358, Win!!!\n",
      "At episode: 359, Win!!!\n",
      "At episode: 360, Win!!!\n",
      "At episode: 361, Win!!!\n",
      "At episode: 362, Win!!!\n",
      "At episode: 363, Win!!!\n",
      "At episode: 364, Win!!!\n",
      "At episode: 365, Win!!!\n",
      "At episode: 366, Win!!!\n",
      "At episode: 367, Win!!!\n",
      "At episode: 368, Win!!!\n",
      "At episode: 369, Win!!!\n",
      "At episode: 370, Win!!!\n",
      "At episode: 371, Win!!!\n",
      "At episode: 372, Win!!!\n",
      "At episode: 373, Win!!!\n",
      "At episode: 374, Win!!!\n",
      "At episode: 375, Win!!!\n",
      "At episode: 376, Win!!!\n",
      "At episode: 377, Win!!!\n",
      "At episode: 378, Win!!!\n",
      "At episode: 379, Win!!!\n",
      "At episode: 380, Win!!!\n",
      "At episode: 381, Win!!!\n",
      "At episode: 382, Win!!!\n",
      "At episode: 383, Win!!!\n",
      "At episode: 384, Win!!!\n",
      "At episode: 385, Win!!!\n",
      "At episode: 386, Win!!!\n",
      "At episode: 387, Win!!!\n",
      "At episode: 388, Win!!!\n",
      "At episode: 389, Win!!!\n",
      "At episode: 390, Win!!!\n",
      "At episode: 392, Win!!!\n",
      "At episode: 393, Win!!!\n",
      "At episode: 394, Win!!!\n",
      "At episode: 395, Win!!!\n",
      "At episode: 396, Win!!!\n",
      "At episode: 397, Win!!!\n",
      "At episode: 398, Win!!!\n",
      "At episode: 399, Win!!!\n",
      "At episode: 400, Win!!!\n",
      "At episode: 401, Win!!!\n",
      "At episode: 402, Win!!!\n",
      "At episode: 403, Win!!!\n",
      "At episode: 404, Win!!!\n",
      "At episode: 405, Win!!!\n",
      "At episode: 406, Win!!!\n",
      "At episode: 407, Win!!!\n",
      "At episode: 408, Win!!!\n",
      "At episode: 409, Win!!!\n",
      "At episode: 410, Win!!!\n",
      "At episode: 411, Win!!!\n",
      "At episode: 412, Win!!!\n",
      "At episode: 413, Win!!!\n",
      "At episode: 414, Win!!!\n",
      "At episode: 415, Win!!!\n",
      "At episode: 416, Win!!!\n",
      "At episode: 417, Win!!!\n",
      "At episode: 418, Win!!!\n",
      "At episode: 419, Win!!!\n",
      "At episode: 420, Win!!!\n",
      "At episode: 421, Win!!!\n",
      "At episode: 422, Win!!!\n",
      "At episode: 423, Win!!!\n",
      "At episode: 424, Win!!!\n",
      "At episode: 425, Win!!!\n",
      "At episode: 426, Win!!!\n",
      "At episode: 427, Win!!!\n",
      "At episode: 428, Win!!!\n",
      "At episode: 429, Win!!!\n",
      "At episode: 430, Win!!!\n",
      "At episode: 431, Win!!!\n",
      "At episode: 432, Win!!!\n",
      "At episode: 433, Win!!!\n",
      "At episode: 440, Win!!!\n",
      "At episode: 441, Win!!!\n",
      "At episode: 442, Win!!!\n",
      "At episode: 443, Win!!!\n",
      "At episode: 447, Win!!!\n",
      "At episode: 456, Win!!!\n",
      "At episode: 457, Win!!!\n",
      "At episode: 458, Win!!!\n",
      "At episode: 460, Win!!!\n",
      "At episode: 464, Win!!!\n",
      "At episode: 465, Win!!!\n",
      "At episode: 466, Win!!!\n",
      "At episode: 469, Win!!!\n",
      "At episode: 489, Win!!!\n",
      "At episode: 490, Win!!!\n",
      "At episode: 491, Win!!!\n",
      "At episode: 492, Win!!!\n",
      "At episode: 493, Win!!!\n",
      "At episode: 494, Win!!!\n",
      "At episode: 495, Win!!!\n",
      "At episode: 496, Win!!!\n",
      "At episode: 497, Win!!!\n",
      "At episode: 498, Win!!!\n",
      "At episode: 499, Win!!!\n",
      "Finished training!\n",
      "Win!!!\n"
     ]
    }
   ],
   "source": [
    "# agent_off_policy_expected_sarsa_greedy = MountainCarAgent(buckets=(4, 2), num_episodes=3000, min_lr=0.01, min_explore=0.1, discount=0.9, decay=1)\n",
    "agent_off_policy_expected_sarsa_greedy = MountainCarAgent(num_episodes = 500)\n",
    "\n",
    "losses_off_policy_expected_sarsa_greedy= agent_off_policy_expected_sarsa_greedy.train(method='off_policy_expected_sarsa')\n",
    "agent_off_policy_expected_sarsa_greedy.run()"
   ]
  },
  {
   "cell_type": "code",
   "execution_count": 4,
   "id": "d9e2fd96-fb98-41d7-9b51-cf6cbbe63771",
   "metadata": {},
   "outputs": [
    {
     "data": {
      "image/png": "[encoded data removed]",
      "text/plain": [
       "<Figure size 432x288 with 1 Axes>"
      ]
     },
     "metadata": {
      "needs_background": "light"
     },
     "output_type": "display_data"
    }
   ],
   "source": [
    "ma_losses_off_policy_expected_sarsa_greedy = moving_average(losses_off_policy_expected_sarsa_greedy, window_size=50)\n",
    "x= np.arange(0,len(ma_losses_off_policy_expected_sarsa_greedy))\n",
    "\n",
    "x = [x+50 for x in x]\n",
    "plt.plot(x, ma_losses_off_policy_expected_sarsa_greedy, label='Expected SARSA')\n",
    "\n",
    "plt.title(\"Moving Average (T=50) of Rewards per episode\")\n",
    "plt.xlabel(\"Episode Number\")\n",
    "plt.ylabel(\"Total Rewards\")\n",
    "plt.legend()\n",
    "\n",
    "log_df = pd.DataFrame({'rewards':ma_losses_off_policy_expected_sarsa_greedy})\n",
    "log_df['method'] = 'Off-policy expected SARSA with a greedy control policy'\n",
    "log_df.to_csv(\"MountainCar_off_policy_expected_sarsa_greedy.csv\")"
   ]
  },
  {
   "cell_type": "markdown",
   "id": "ba5690a8-118b-4c90-9595-1f6e6bdf4ce2",
   "metadata": {},
   "source": [
    "### n-step SARSA"
   ]
  },
  {
   "cell_type": "code",
   "execution_count": 1,
   "id": "5f2b71fe-8a6c-45bb-9a4c-1de4722db66d",
   "metadata": {},
   "outputs": [
    {
     "name": "stdout",
     "output_type": "stream",
     "text": [
      "Finished training!\n"
     ]
    }
   ],
   "source": [
    "import pandas as pd\n",
    "\n",
    "import matplotlib.pyplot as plt\n",
    "import numpy as np\n",
    "\n",
    "from MountainCarAgent import MountainCarAgent\n",
    "\n",
    "def moving_average(arr, window_size=10):\n",
    "    ret = np.cumsum(arr, dtype=float)\n",
    "    ret[window_size:] = ret[window_size:] - ret[:-window_size]\n",
    "    return ret[window_size - 1:] / window_size\n",
    "\n",
    "agent_n_step_sarsa = MountainCarAgent(num_episodes = 300)\n",
    "\n",
    "losses_n_step_sarsa= agent_n_step_sarsa.train(method='n_step_sarsa')\n",
    "agent_n_step_sarsa.run()"
   ]
  },
  {
   "cell_type": "markdown",
   "id": "e140913a-2284-4b86-a79f-d880adb0e0a6",
   "metadata": {},
   "source": [
    "### Method Comparison"
   ]
  },
  {
   "cell_type": "code",
   "execution_count": 5,
   "id": "4b84fd9d-3832-4ff3-ba91-71d4843cde6c",
   "metadata": {},
   "outputs": [
    {
     "data": {
      "text/plain": [
       "['MountainCar_MC.csv',\n",
       " 'MountainCar_on_policy_sarsa.csv',\n",
       " 'MountainCar_on_policy_expected_sarsa.csv',\n",
       " 'MountainCar_off_policy_expected_sarsa_greedy.csv']"
      ]
     },
     "execution_count": 5,
     "metadata": {},
     "output_type": "execute_result"
    }
   ],
   "source": [
    "import os\n",
    "method_comparison = [x for x in os.listdir() if 'MountainCar' in x and '.csv' in x]\n",
    "method_comparison"
   ]
  },
  {
   "cell_type": "code",
   "execution_count": 6,
   "id": "88ff7912-f38b-4cba-bb01-20394e61d14b",
   "metadata": {},
   "outputs": [
    {
     "data": {
      "text/plain": [
       "Text(0, 0.5, 'Total Rewards')"
      ]
     },
     "execution_count": 6,
     "metadata": {},
     "output_type": "execute_result"
    },
    {
     "data": {
      "image/png": "[encoded data removed]",
      "text/plain": [
       "<Figure size 432x288 with 1 Axes>"
      ]
     },
     "metadata": {
      "needs_background": "light"
     },
     "output_type": "display_data"
    }
   ],
   "source": [
    "\n",
    "for i in range(0,len(method_comparison)): \n",
    "    temp_df = pd.read_csv(method_comparison[i])\n",
    "    plt.plot(temp_df.index, temp_df['rewards'], label = f\"{temp_df['method'].iloc[i]}\")\n",
    "plt.legend()\n",
    "plt.xlabel(\"Episode Number\")\n",
    "plt.ylabel(\"Total Rewards\")"
   ]
  },
  {
   "cell_type": "code",
   "execution_count": null,
   "id": "5636b41b-b5f8-4fd4-b9bf-1b8cf5051ce0",
   "metadata": {},
   "outputs": [],
   "source": []
  }
 ],
 "metadata": {
  "kernelspec": {
   "display_name": "Python 3 (ipykernel)",
   "language": "python",
   "name": "python3"
  },
  "language_info": {
   "codemirror_mode": {
    "name": "ipython",
    "version": 3
   },
   "file_extension": ".py",
   "mimetype": "text/x-python",
   "name": "python",
   "nbconvert_exporter": "python",
   "pygments_lexer": "ipython3",
   "version": "3.9.12"
  }
 },
 "nbformat": 4,
 "nbformat_minor": 5
}
